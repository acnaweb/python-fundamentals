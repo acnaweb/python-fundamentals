{
 "cells": [
  {
   "cell_type": "markdown",
   "metadata": {},
   "source": [
    "# Manipulação de arrays Numpy"
   ]
  },
  {
   "cell_type": "markdown",
   "metadata": {},
   "source": [
    "### Importando o NumPy"
   ]
  },
  {
   "cell_type": "code",
   "execution_count": null,
   "metadata": {},
   "outputs": [],
   "source": [
    "!pip install numpy"
   ]
  },
  {
   "cell_type": "code",
   "execution_count": 1,
   "metadata": {},
   "outputs": [],
   "source": [
    "# Importando o NumPy\n",
    "import numpy as np"
   ]
  },
  {
   "cell_type": "markdown",
   "metadata": {},
   "source": [
    "### Alterando, adicionando e removendo elementos"
   ]
  },
  {
   "cell_type": "code",
   "execution_count": 6,
   "metadata": {},
   "outputs": [
    {
     "data": {
      "text/plain": [
       "array([ 81,  87, 175,  64,  28, 113,  92,   3, 197, 159, 185, 157])"
      ]
     },
     "execution_count": 6,
     "metadata": {},
     "output_type": "execute_result"
    }
   ],
   "source": [
    "# Criando um array de 1 dimensão\n",
    "a1D = np.random.randint(1,200, 12)\n",
    "a1D"
   ]
  },
  {
   "cell_type": "code",
   "execution_count": 7,
   "metadata": {},
   "outputs": [
    {
     "data": {
      "text/plain": [
       "array([[168,  45, 136,  73],\n",
       "       [ 19, 116, 117,  87],\n",
       "       [ 10, 140,  28,  16]])"
      ]
     },
     "execution_count": 7,
     "metadata": {},
     "output_type": "execute_result"
    }
   ],
   "source": [
    "# Criando um array de 2 dimensões\n",
    "a2D = np.random.randint(1,200, (3,4))\n",
    "a2D"
   ]
  },
  {
   "cell_type": "code",
   "execution_count": 8,
   "metadata": {},
   "outputs": [
    {
     "data": {
      "text/plain": [
       "array([[[  7, 154, 154,  18, 122,  11],\n",
       "        [ 46, 163, 170,  76,  43,  93],\n",
       "        [183,  23,  59, 114,   3,  85]],\n",
       "\n",
       "       [[ 97, 140, 105,   7,  61, 156],\n",
       "        [185, 152, 192,  64,  83, 191],\n",
       "        [182, 127, 148,  57,  42, 161]]])"
      ]
     },
     "execution_count": 8,
     "metadata": {},
     "output_type": "execute_result"
    }
   ],
   "source": [
    "# Criando um array de 3 dimensões\n",
    "a3D = np.random.randint(1,200, (2,3,6)) # 2 páginas/faces, 3 linhas, 6 colunas\n",
    "a3D"
   ]
  },
  {
   "cell_type": "code",
   "execution_count": 9,
   "metadata": {},
   "outputs": [
    {
     "data": {
      "text/plain": [
       "array([ -1,  87, 175,  64,  28, 113,  92,   3, 197, 159, 185, 157])"
      ]
     },
     "execution_count": 9,
     "metadata": {},
     "output_type": "execute_result"
    }
   ],
   "source": [
    "# Alterando o elemento do índice 0\n",
    "a1D[0] = -1\n",
    "a1D"
   ]
  },
  {
   "cell_type": "code",
   "execution_count": 10,
   "metadata": {},
   "outputs": [
    {
     "data": {
      "text/plain": [
       "array([[168,  45, 136,  73],\n",
       "       [ 19, 116,  -1,  87],\n",
       "       [ 10, 140,  28,  16]])"
      ]
     },
     "execution_count": 10,
     "metadata": {},
     "output_type": "execute_result"
    }
   ],
   "source": [
    "# Alterando o elemento da linha 1, coluna 2\n",
    "a2D[1][2] = -1\n",
    "a2D"
   ]
  },
  {
   "cell_type": "code",
   "execution_count": 11,
   "metadata": {},
   "outputs": [
    {
     "data": {
      "text/plain": [
       "array([[[  7, 154, 154,  18, 122,  11],\n",
       "        [ 46, 163, 170,  76,  43,  93],\n",
       "        [183,  23,  59, 114,   3,  85]],\n",
       "\n",
       "       [[ 97, 140, 105,   7,  61, 156],\n",
       "        [185, 152, 192,  64,  83, 191],\n",
       "        [182, 127, 148,  57,  -1, 161]]])"
      ]
     },
     "execution_count": 11,
     "metadata": {},
     "output_type": "execute_result"
    }
   ],
   "source": [
    "# Alterando o elemento da face 1, linha 2, coluna 4\n",
    "a3D[1][2][4] = -1\n",
    "a3D"
   ]
  },
  {
   "cell_type": "code",
   "execution_count": 12,
   "metadata": {},
   "outputs": [
    {
     "data": {
      "text/plain": [
       "array([ -1,  87, 175,  64,  28, 113,  92,   3, 197, 159, 185, 157, 100,\n",
       "       130])"
      ]
     },
     "execution_count": 12,
     "metadata": {},
     "output_type": "execute_result"
    }
   ],
   "source": [
    "# Retorna array com elementos adicionados no final\n",
    "a1D_modificado = np.append(a1D, [100, 130])\n",
    "a1D_modificado"
   ]
  },
  {
   "cell_type": "code",
   "execution_count": 13,
   "metadata": {},
   "outputs": [
    {
     "data": {
      "text/plain": [
       "array([ -1,  87, 175,  64,  28, 113,  92,   3, 197, 159, 185, 157])"
      ]
     },
     "execution_count": 13,
     "metadata": {},
     "output_type": "execute_result"
    }
   ],
   "source": [
    "a1D # a1D não foi modificado"
   ]
  },
  {
   "cell_type": "code",
   "execution_count": 15,
   "metadata": {},
   "outputs": [
    {
     "data": {
      "text/plain": [
       "array([168,  45, 136,  73,  19, 116,  -1,  87,  10, 140,  28,  16, 100,\n",
       "       130])"
      ]
     },
     "execution_count": 15,
     "metadata": {},
     "output_type": "execute_result"
    }
   ],
   "source": [
    "a2D_modificado = np.append(a2D, [100, 130]) # Lineariza a2D e insere os elementos no final\n",
    "a2D_modificado"
   ]
  },
  {
   "cell_type": "code",
   "execution_count": 16,
   "metadata": {},
   "outputs": [
    {
     "data": {
      "text/plain": [
       "1"
      ]
     },
     "execution_count": 16,
     "metadata": {},
     "output_type": "execute_result"
    }
   ],
   "source": [
    "a2D_modificado.ndim"
   ]
  },
  {
   "cell_type": "code",
   "execution_count": 14,
   "metadata": {},
   "outputs": [
    {
     "data": {
      "text/plain": [
       "array([[168,  45, 136,  73],\n",
       "       [ 19, 116,  -1,  87],\n",
       "       [ 10, 140,  28,  16]])"
      ]
     },
     "execution_count": 14,
     "metadata": {},
     "output_type": "execute_result"
    }
   ],
   "source": [
    "a2D # a2D não foi modificado"
   ]
  },
  {
   "cell_type": "code",
   "execution_count": 17,
   "metadata": {},
   "outputs": [
    {
     "data": {
      "text/plain": [
       "array([  7, 154, 154,  18, 122,  11,  46, 163, 170,  76,  43,  93, 183,\n",
       "        23,  59, 114,   3,  85,  97, 140, 105,   7,  61, 156, 185, 152,\n",
       "       192,  64,  83, 191, 182, 127, 148,  57,  -1, 161, 100, 130])"
      ]
     },
     "execution_count": 17,
     "metadata": {},
     "output_type": "execute_result"
    }
   ],
   "source": [
    "a3D_modificado = np.append(a3D, [100, 130]) # Lineariza a3D e insere os elementos no final\n",
    "a3D_modificado"
   ]
  },
  {
   "cell_type": "code",
   "execution_count": 18,
   "metadata": {},
   "outputs": [
    {
     "data": {
      "text/plain": [
       "array([[[  7, 154, 154,  18, 122,  11],\n",
       "        [ 46, 163, 170,  76,  43,  93],\n",
       "        [183,  23,  59, 114,   3,  85]],\n",
       "\n",
       "       [[ 97, 140, 105,   7,  61, 156],\n",
       "        [185, 152, 192,  64,  83, 191],\n",
       "        [182, 127, 148,  57,  -1, 161]]])"
      ]
     },
     "execution_count": 18,
     "metadata": {},
     "output_type": "execute_result"
    }
   ],
   "source": [
    "a3D # a3D não foi modificado"
   ]
  },
  {
   "cell_type": "code",
   "execution_count": 19,
   "metadata": {},
   "outputs": [
    {
     "name": "stdout",
     "output_type": "stream",
     "text": [
      "[ -1  87 175  64  28 113  92   3 197 159 185 157 100 130]\n",
      "[175  28 113  92   3 197 159 185 157 100 130]\n"
     ]
    }
   ],
   "source": [
    "a1D_modificado2 = np.delete(a1D_modificado, [0, 1, 3])\n",
    "print(a1D_modificado)\n",
    "print(a1D_modificado2)"
   ]
  },
  {
   "cell_type": "markdown",
   "metadata": {},
   "source": [
    "### Comparação entre arrays"
   ]
  },
  {
   "cell_type": "code",
   "execution_count": 20,
   "metadata": {},
   "outputs": [
    {
     "data": {
      "text/plain": [
       "array([False,  True, False,  True,  True])"
      ]
     },
     "execution_count": 20,
     "metadata": {},
     "output_type": "execute_result"
    }
   ],
   "source": [
    "a1D = np.array([1, 2, 3, 4, 5])\n",
    "b1D = np.array([3, 2, 1, 4, 5])\n",
    "a1D == b1D # Comparação elemento a elemento"
   ]
  },
  {
   "cell_type": "code",
   "execution_count": 21,
   "metadata": {},
   "outputs": [
    {
     "data": {
      "text/plain": [
       "array([1, 1, 9, 2, 3, 6, 9, 3, 6, 5, 7, 3, 4, 9, 6, 6, 9, 5, 5, 8])"
      ]
     },
     "execution_count": 21,
     "metadata": {},
     "output_type": "execute_result"
    }
   ],
   "source": [
    "c1D = np.random.randint(1,10,20)\n",
    "c1D"
   ]
  },
  {
   "cell_type": "code",
   "execution_count": 22,
   "metadata": {},
   "outputs": [
    {
     "data": {
      "text/plain": [
       "array([False, False, False, False, False, False, False, False, False,\n",
       "        True, False, False, False, False, False, False, False,  True,\n",
       "        True, False])"
      ]
     },
     "execution_count": 22,
     "metadata": {},
     "output_type": "execute_result"
    }
   ],
   "source": [
    "c1D == 5"
   ]
  },
  {
   "cell_type": "code",
   "execution_count": 23,
   "metadata": {},
   "outputs": [
    {
     "data": {
      "text/plain": [
       "array([5, 5, 5])"
      ]
     },
     "execution_count": 23,
     "metadata": {},
     "output_type": "execute_result"
    }
   ],
   "source": [
    "c1D[c1D == 5]"
   ]
  },
  {
   "cell_type": "markdown",
   "metadata": {},
   "source": [
    "### Operações entre arrays e escalares"
   ]
  },
  {
   "cell_type": "code",
   "execution_count": 24,
   "metadata": {},
   "outputs": [
    {
     "data": {
      "text/plain": [
       "array([ 1,  2,  3,  4,  5,  6,  7,  8,  9, 10])"
      ]
     },
     "execution_count": 24,
     "metadata": {},
     "output_type": "execute_result"
    }
   ],
   "source": [
    "a1D = np.arange(1,11)\n",
    "a1D"
   ]
  },
  {
   "cell_type": "code",
   "execution_count": 25,
   "metadata": {},
   "outputs": [
    {
     "data": {
      "text/plain": [
       "array([ 1,  3,  5,  7,  9, 11, 13, 15, 17, 19])"
      ]
     },
     "execution_count": 25,
     "metadata": {},
     "output_type": "execute_result"
    }
   ],
   "source": [
    "b1D = np.arange(1,20,2)\n",
    "b1D"
   ]
  },
  {
   "cell_type": "code",
   "execution_count": 26,
   "metadata": {},
   "outputs": [
    {
     "data": {
      "text/plain": [
       "array([ 2,  4,  6,  8, 10, 12, 14, 16, 18, 20])"
      ]
     },
     "execution_count": 26,
     "metadata": {},
     "output_type": "execute_result"
    }
   ],
   "source": [
    "c1D = 2 * a1D # Cada elemento de a1D será multiplicado por 2\n",
    "c1D"
   ]
  },
  {
   "cell_type": "code",
   "execution_count": 27,
   "metadata": {},
   "outputs": [
    {
     "data": {
      "text/plain": [
       "array([ 6,  8, 10, 12, 14, 16, 18, 20, 22, 24])"
      ]
     },
     "execution_count": 27,
     "metadata": {},
     "output_type": "execute_result"
    }
   ],
   "source": [
    "d1D = b1D + 5 # Soma 5 para cada elemento de b1D\n",
    "d1D"
   ]
  },
  {
   "cell_type": "code",
   "execution_count": 28,
   "metadata": {},
   "outputs": [
    {
     "data": {
      "text/plain": [
       "array([-2,  0,  2,  4,  6,  8, 10, 12, 14, 16])"
      ]
     },
     "execution_count": 28,
     "metadata": {},
     "output_type": "execute_result"
    }
   ],
   "source": [
    "e1D = b1D - 3\n",
    "e1D"
   ]
  },
  {
   "cell_type": "code",
   "execution_count": 29,
   "metadata": {},
   "outputs": [
    {
     "data": {
      "text/plain": [
       "array([0.2, 0.4, 0.6, 0.8, 1. , 1.2, 1.4, 1.6, 1.8, 2. ])"
      ]
     },
     "execution_count": 29,
     "metadata": {},
     "output_type": "execute_result"
    }
   ],
   "source": [
    "f1D = a1D / 5\n",
    "f1D"
   ]
  },
  {
   "cell_type": "code",
   "execution_count": 30,
   "metadata": {},
   "outputs": [
    {
     "data": {
      "text/plain": [
       "array([-4. , -2.2, -0.4,  1.4,  3.2,  5. ,  6.8,  8.6, 10.4, 12.2, 14. ,\n",
       "       15.8, 17.6, 19.4, 21.2, 23. , 24.8, 26.6, 28.4, 30.2, 32. , 33.8,\n",
       "       35.6, 37.4, 39.2, 41. , 42.8, 44.6, 46.4, 48.2, 50. , 51.8, 53.6,\n",
       "       55.4, 57.2, 59. , 60.8, 62.6, 64.4, 66.2, 68. , 69.8, 71.6, 73.4,\n",
       "       75.2, 77. , 78.8, 80.6, 82.4, 84.2, 86. , 87.8, 89.6, 91.4, 93.2,\n",
       "       95. ])"
      ]
     },
     "execution_count": 30,
     "metadata": {},
     "output_type": "execute_result"
    }
   ],
   "source": [
    "celsius = np.arange(-20, 36) # Cria um array com o valores de -20 a 35, representando a temperatura em graus Celsius\n",
    "fahrenheit = celsius * (9/5) + 32 # Cria um array convertendo cada valor em Celsius para fahrenheit\n",
    "\n",
    "fahrenheit"
   ]
  },
  {
   "cell_type": "code",
   "execution_count": 31,
   "metadata": {},
   "outputs": [
    {
     "name": "stdout",
     "output_type": "stream",
     "text": [
      "[ 1  2  3  4  5  6  7  8  9 10]\n",
      "[ 1  3  5  7  9 11 13 15 17 19]\n",
      "-------------------------------\n",
      "[ 2  5  8 11 14 17 20 23 26 29]\n"
     ]
    }
   ],
   "source": [
    "# Somando cada elemento de a1D a b1D\n",
    "g1D = a1D + b1D\n",
    "print(a1D)\n",
    "print(b1D)\n",
    "print(\"-\"*31)\n",
    "print(g1D)"
   ]
  },
  {
   "cell_type": "code",
   "execution_count": 32,
   "metadata": {},
   "outputs": [
    {
     "name": "stdout",
     "output_type": "stream",
     "text": [
      "[ 1  2  3  4  5  6  7  8  9 10]\n",
      "[ 1  3  5  7  9 11 13 15 17 19]\n",
      "-------------------------------\n",
      "[ 2  5  8 11 14 17 20 23 26 29]\n"
     ]
    }
   ],
   "source": [
    "# Outra forma de somar cada elemento de a1D a b1D\n",
    "h1D = np.add(a1D, b1D)\n",
    "print(a1D)\n",
    "print(b1D)\n",
    "print(\"-\"*31)\n",
    "print(h1D)"
   ]
  },
  {
   "cell_type": "code",
   "execution_count": 33,
   "metadata": {},
   "outputs": [
    {
     "name": "stdout",
     "output_type": "stream",
     "text": [
      "[ 2  5  8 11 14 17 20 23 26 29]\n",
      "[ 2  5  8 11 14 17 20 23 26 29]\n",
      "-------------------------------\n",
      "[0 0 0 0 0 0 0 0 0 0]\n"
     ]
    }
   ],
   "source": [
    "i1D = h1D - g1D\n",
    "print(h1D)\n",
    "print(g1D)\n",
    "print(\"-\"*31)\n",
    "print(i1D)"
   ]
  },
  {
   "cell_type": "code",
   "execution_count": 34,
   "metadata": {},
   "outputs": [
    {
     "name": "stdout",
     "output_type": "stream",
     "text": [
      "[ 2  5  8 11 14 17 20 23 26 29]\n",
      "[ 2  5  8 11 14 17 20 23 26 29]\n",
      "-------------------------------\n",
      "[0 0 0 0 0 0 0 0 0 0]\n"
     ]
    }
   ],
   "source": [
    "# Outra forma de somar cada elemento de a1D a b1D\n",
    "j1D = np.subtract(h1D, g1D)\n",
    "print(h1D)\n",
    "print(g1D)\n",
    "print(\"-\"*31)\n",
    "print(j1D)"
   ]
  },
  {
   "cell_type": "code",
   "execution_count": 35,
   "metadata": {},
   "outputs": [
    {
     "data": {
      "text/plain": [
       "array([1, 2, 3, 4, 5])"
      ]
     },
     "execution_count": 35,
     "metadata": {},
     "output_type": "execute_result"
    }
   ],
   "source": [
    "a1D = np.arange(1, 6)\n",
    "a1D"
   ]
  },
  {
   "cell_type": "code",
   "execution_count": 36,
   "metadata": {},
   "outputs": [
    {
     "data": {
      "text/plain": [
       "array([ 6,  7,  8,  9, 10])"
      ]
     },
     "execution_count": 36,
     "metadata": {},
     "output_type": "execute_result"
    }
   ],
   "source": [
    "b1D = np.arange(6,11)\n",
    "b1D"
   ]
  },
  {
   "cell_type": "code",
   "execution_count": 37,
   "metadata": {},
   "outputs": [
    {
     "data": {
      "text/plain": [
       "array([ 6, 14, 24, 36, 50])"
      ]
     },
     "execution_count": 37,
     "metadata": {},
     "output_type": "execute_result"
    }
   ],
   "source": [
    "c1D = a1D * b1D\n",
    "c1D"
   ]
  },
  {
   "cell_type": "code",
   "execution_count": 38,
   "metadata": {},
   "outputs": [
    {
     "data": {
      "text/plain": [
       "array([ 6, 14, 24, 36, 50])"
      ]
     },
     "execution_count": 38,
     "metadata": {},
     "output_type": "execute_result"
    }
   ],
   "source": [
    "d1D = np.multiply(a1D, b1D)\n",
    "d1D"
   ]
  },
  {
   "cell_type": "code",
   "execution_count": 39,
   "metadata": {},
   "outputs": [
    {
     "data": {
      "text/plain": [
       "array([ 6.,  7.,  8.,  9., 10.])"
      ]
     },
     "execution_count": 39,
     "metadata": {},
     "output_type": "execute_result"
    }
   ],
   "source": [
    "e1D = c1D / a1D\n",
    "e1D"
   ]
  },
  {
   "cell_type": "code",
   "execution_count": 40,
   "metadata": {},
   "outputs": [
    {
     "data": {
      "text/plain": [
       "array([ 6.,  7.,  8.,  9., 10.])"
      ]
     },
     "execution_count": 40,
     "metadata": {},
     "output_type": "execute_result"
    }
   ],
   "source": [
    "f1D = np.divide(c1D, a1D)\n",
    "f1D"
   ]
  },
  {
   "cell_type": "code",
   "execution_count": 41,
   "metadata": {},
   "outputs": [
    {
     "data": {
      "text/plain": [
       "array([1, 2, 3, 4, 5, 6, 7, 8, 9])"
      ]
     },
     "execution_count": 41,
     "metadata": {},
     "output_type": "execute_result"
    }
   ],
   "source": [
    "g1D = np.arange(1,10)\n",
    "g1D"
   ]
  },
  {
   "cell_type": "code",
   "execution_count": 42,
   "metadata": {},
   "outputs": [
    {
     "data": {
      "text/plain": [
       "array([1.        , 1.41421356, 1.73205081, 2.        , 2.23606798,\n",
       "       2.44948974, 2.64575131, 2.82842712, 3.        ])"
      ]
     },
     "execution_count": 42,
     "metadata": {},
     "output_type": "execute_result"
    }
   ],
   "source": [
    "raiz1D = np.sqrt(g1D)\n",
    "raiz1D"
   ]
  },
  {
   "cell_type": "markdown",
   "metadata": {},
   "source": [
    "### Algumas funções"
   ]
  },
  {
   "cell_type": "code",
   "execution_count": 43,
   "metadata": {},
   "outputs": [
    {
     "data": {
      "text/plain": [
       "array([[10,  1, 61, 97, 75, 26, 76, 38, 21, 23],\n",
       "       [44, 54, 86, 92, 61, 34, 61, 83, 62, 58],\n",
       "       [77, 68, 29, 91, 13, 31, 22, 21, 69, 25],\n",
       "       [68, 71, 97, 72, 20, 59, 53, 84,  1, 72],\n",
       "       [54, 96, 99, 82, 91, 44, 35,  3, 91, 54]])"
      ]
     },
     "execution_count": 43,
     "metadata": {},
     "output_type": "execute_result"
    }
   ],
   "source": [
    "d2D = np.random.randint(1, 101, (5,10)) # Array de 5 linhas x 10 colunas preenchidos com valores aleatórios entre 1 e 100\n",
    "d2D"
   ]
  },
  {
   "cell_type": "markdown",
   "metadata": {},
   "source": [
    "#### Obs: como os valores valores são gerados aleatoriamente, sua matriz provavelmente será diferente da gerada acima"
   ]
  },
  {
   "cell_type": "code",
   "execution_count": 44,
   "metadata": {},
   "outputs": [
    {
     "data": {
      "text/plain": [
       "2755"
      ]
     },
     "execution_count": 44,
     "metadata": {},
     "output_type": "execute_result"
    }
   ],
   "source": [
    "# Soma de todos os elementos\n",
    "d2D.sum()"
   ]
  },
  {
   "cell_type": "code",
   "execution_count": 45,
   "metadata": {},
   "outputs": [
    {
     "data": {
      "text/plain": [
       "array([253, 290, 372, 434, 260, 194, 247, 229, 244, 232])"
      ]
     },
     "execution_count": 45,
     "metadata": {},
     "output_type": "execute_result"
    }
   ],
   "source": [
    "# Soma de todos os elementos de cada coluna (eixo 0)\n",
    "d2D.sum(axis = 0)"
   ]
  },
  {
   "cell_type": "code",
   "execution_count": 46,
   "metadata": {},
   "outputs": [
    {
     "data": {
      "text/plain": [
       "array([428, 635, 446, 597, 649])"
      ]
     },
     "execution_count": 46,
     "metadata": {},
     "output_type": "execute_result"
    }
   ],
   "source": [
    "# Soma de todos os elementos de cada linha (eixo 1)\n",
    "d2D.sum(axis = 1)"
   ]
  },
  {
   "cell_type": "code",
   "execution_count": 47,
   "metadata": {},
   "outputs": [
    {
     "data": {
      "text/plain": [
       "array([253, 290, 372, 434, 260, 194, 247, 229, 244, 232])"
      ]
     },
     "execution_count": 47,
     "metadata": {},
     "output_type": "execute_result"
    }
   ],
   "source": [
    "somacol = sum(d2D) # A função sum() do Python retornará a soma de todas as colunas\n",
    "somacol"
   ]
  },
  {
   "cell_type": "code",
   "execution_count": 48,
   "metadata": {},
   "outputs": [
    {
     "data": {
      "text/plain": [
       "1"
      ]
     },
     "execution_count": 48,
     "metadata": {},
     "output_type": "execute_result"
    }
   ],
   "source": [
    "# Retorna o menor valor geral\n",
    "d2D.min()"
   ]
  },
  {
   "cell_type": "code",
   "execution_count": 49,
   "metadata": {},
   "outputs": [
    {
     "data": {
      "text/plain": [
       "array([10,  1, 29, 72, 13, 26, 22,  3,  1, 23])"
      ]
     },
     "execution_count": 49,
     "metadata": {},
     "output_type": "execute_result"
    }
   ],
   "source": [
    "# Retorna o menor valor de cada coluna (eixo 0)\n",
    "d2D.min(axis=0)"
   ]
  },
  {
   "cell_type": "code",
   "execution_count": 50,
   "metadata": {},
   "outputs": [
    {
     "data": {
      "text/plain": [
       "array([ 1, 34, 13,  1,  3])"
      ]
     },
     "execution_count": 50,
     "metadata": {},
     "output_type": "execute_result"
    }
   ],
   "source": [
    "# Retorna o menor valor de cada linha (eixo 1)\n",
    "d2D.min(axis=1)"
   ]
  },
  {
   "cell_type": "code",
   "execution_count": 51,
   "metadata": {},
   "outputs": [
    {
     "data": {
      "text/plain": [
       "99"
      ]
     },
     "execution_count": 51,
     "metadata": {},
     "output_type": "execute_result"
    }
   ],
   "source": [
    "# Retorna o maior valor geral\n",
    "d2D.max()"
   ]
  },
  {
   "cell_type": "code",
   "execution_count": 52,
   "metadata": {},
   "outputs": [
    {
     "data": {
      "text/plain": [
       "array([77, 96, 99, 97, 91, 59, 76, 84, 91, 72])"
      ]
     },
     "execution_count": 52,
     "metadata": {},
     "output_type": "execute_result"
    }
   ],
   "source": [
    "# Retorna o maior valor de cada coluna (eixo 0)\n",
    "d2D.max(axis=0)"
   ]
  },
  {
   "cell_type": "code",
   "execution_count": 53,
   "metadata": {},
   "outputs": [
    {
     "data": {
      "text/plain": [
       "array([97, 92, 91, 97, 99])"
      ]
     },
     "execution_count": 53,
     "metadata": {},
     "output_type": "execute_result"
    }
   ],
   "source": [
    "# Retorna o maior valor de cada linha (eixo 1)\n",
    "d2D.max(axis=1)"
   ]
  },
  {
   "cell_type": "code",
   "execution_count": 54,
   "metadata": {},
   "outputs": [
    {
     "data": {
      "text/plain": [
       "array([  10,   11,   72,  169,  244,  270,  346,  384,  405,  428,  472,\n",
       "        526,  612,  704,  765,  799,  860,  943, 1005, 1063, 1140, 1208,\n",
       "       1237, 1328, 1341, 1372, 1394, 1415, 1484, 1509, 1577, 1648, 1745,\n",
       "       1817, 1837, 1896, 1949, 2033, 2034, 2106, 2160, 2256, 2355, 2437,\n",
       "       2528, 2572, 2607, 2610, 2701, 2755])"
      ]
     },
     "execution_count": 54,
     "metadata": {},
     "output_type": "execute_result"
    }
   ],
   "source": [
    "# Retorna a soma cumulativa\n",
    "d2D.cumsum()"
   ]
  },
  {
   "cell_type": "code",
   "execution_count": 55,
   "metadata": {},
   "outputs": [
    {
     "data": {
      "text/plain": [
       "array([[ 10,   1,  61,  97,  75,  26,  76,  38,  21,  23],\n",
       "       [ 54,  55, 147, 189, 136,  60, 137, 121,  83,  81],\n",
       "       [131, 123, 176, 280, 149,  91, 159, 142, 152, 106],\n",
       "       [199, 194, 273, 352, 169, 150, 212, 226, 153, 178],\n",
       "       [253, 290, 372, 434, 260, 194, 247, 229, 244, 232]])"
      ]
     },
     "execution_count": 55,
     "metadata": {},
     "output_type": "execute_result"
    }
   ],
   "source": [
    "# Retorna a soma cumulativa para cada coluna (eixo = 0)\n",
    "d2D.cumsum(axis = 0)"
   ]
  },
  {
   "cell_type": "code",
   "execution_count": 56,
   "metadata": {},
   "outputs": [
    {
     "data": {
      "text/plain": [
       "array([[10,  1, 61, 97, 75, 26, 76, 38, 21, 23],\n",
       "       [44, 54, 86, 92, 61, 34, 61, 83, 62, 58],\n",
       "       [77, 68, 29, 91, 13, 31, 22, 21, 69, 25],\n",
       "       [68, 71, 97, 72, 20, 59, 53, 84,  1, 72],\n",
       "       [54, 96, 99, 82, 91, 44, 35,  3, 91, 54]])"
      ]
     },
     "execution_count": 56,
     "metadata": {},
     "output_type": "execute_result"
    }
   ],
   "source": [
    "d2D"
   ]
  },
  {
   "cell_type": "code",
   "execution_count": 57,
   "metadata": {},
   "outputs": [
    {
     "data": {
      "text/plain": [
       "array([[ 10,  11,  72, 169, 244, 270, 346, 384, 405, 428],\n",
       "       [ 44,  98, 184, 276, 337, 371, 432, 515, 577, 635],\n",
       "       [ 77, 145, 174, 265, 278, 309, 331, 352, 421, 446],\n",
       "       [ 68, 139, 236, 308, 328, 387, 440, 524, 525, 597],\n",
       "       [ 54, 150, 249, 331, 422, 466, 501, 504, 595, 649]])"
      ]
     },
     "execution_count": 57,
     "metadata": {},
     "output_type": "execute_result"
    }
   ],
   "source": [
    "# Retorna a soma cumulativa para cada linha (eixo = 1)\n",
    "x = d2D.cumsum(axis = 1)\n",
    "x"
   ]
  },
  {
   "cell_type": "code",
   "execution_count": 58,
   "metadata": {},
   "outputs": [
    {
     "data": {
      "text/plain": [
       "55.1"
      ]
     },
     "execution_count": 58,
     "metadata": {},
     "output_type": "execute_result"
    }
   ],
   "source": [
    "# Retorna a média aritmética\n",
    "d2D.mean()"
   ]
  },
  {
   "cell_type": "code",
   "execution_count": 59,
   "metadata": {},
   "outputs": [
    {
     "data": {
      "text/plain": [
       "array([50.6, 58. , 74.4, 86.8, 52. , 38.8, 49.4, 45.8, 48.8, 46.4])"
      ]
     },
     "execution_count": 59,
     "metadata": {},
     "output_type": "execute_result"
    }
   ],
   "source": [
    "# Retorna a média aritmética para cada coluna (eixo = 0)\n",
    "d2D.mean(axis = 0)"
   ]
  },
  {
   "cell_type": "code",
   "execution_count": 60,
   "metadata": {},
   "outputs": [
    {
     "data": {
      "text/plain": [
       "array([42.8, 63.5, 44.6, 59.7, 64.9])"
      ]
     },
     "execution_count": 60,
     "metadata": {},
     "output_type": "execute_result"
    }
   ],
   "source": [
    "# Retorna a média aritmética para cada linha (eixo = 1)\n",
    "d2D.mean(axis = 1)"
   ]
  },
  {
   "cell_type": "code",
   "execution_count": 61,
   "metadata": {},
   "outputs": [
    {
     "data": {
      "text/plain": [
       "28.614157335137442"
      ]
     },
     "execution_count": 61,
     "metadata": {},
     "output_type": "execute_result"
    }
   ],
   "source": [
    "# Retorna o desvio padrão\n",
    "d2D.std()"
   ]
  },
  {
   "cell_type": "code",
   "execution_count": 62,
   "metadata": {},
   "outputs": [
    {
     "data": {
      "text/plain": [
       "array([23.25166661, 31.5531298 , 26.4242313 ,  8.84081444, 30.58103988,\n",
       "       11.68588893, 19.04310899, 32.71330005, 32.926585  , 19.25201288])"
      ]
     },
     "execution_count": 62,
     "metadata": {},
     "output_type": "execute_result"
    }
   ],
   "source": [
    "# Retorna o desvio padrão para cada coluna (eixo = 0)\n",
    "d2D.std(axis = 0)"
   ]
  },
  {
   "cell_type": "code",
   "execution_count": 63,
   "metadata": {},
   "outputs": [
    {
     "data": {
      "text/plain": [
       "array([30.66528982, 17.56274466, 26.87824399, 27.47380571, 30.30659994])"
      ]
     },
     "execution_count": 63,
     "metadata": {},
     "output_type": "execute_result"
    }
   ],
   "source": [
    "# Retorna o desvio padrão para cada linha (eixo = 1)\n",
    "d2D.std(axis = 1)"
   ]
  },
  {
   "cell_type": "code",
   "execution_count": 64,
   "metadata": {},
   "outputs": [
    {
     "data": {
      "text/plain": [
       "60.0"
      ]
     },
     "execution_count": 64,
     "metadata": {},
     "output_type": "execute_result"
    }
   ],
   "source": [
    "# Retorna a mediana (geral)\n",
    "np.median(d2D)"
   ]
  },
  {
   "cell_type": "code",
   "execution_count": 65,
   "metadata": {},
   "outputs": [
    {
     "data": {
      "text/plain": [
       "array([54., 68., 86., 91., 61., 34., 53., 38., 62., 54.])"
      ]
     },
     "execution_count": 65,
     "metadata": {},
     "output_type": "execute_result"
    }
   ],
   "source": [
    "# Retorna a mediana para cada coluna (eixo = 0)\n",
    "np.median(d2D, axis = 0)"
   ]
  },
  {
   "cell_type": "code",
   "execution_count": 66,
   "metadata": {},
   "outputs": [
    {
     "data": {
      "text/plain": [
       "array([32. , 61. , 30. , 69.5, 68. ])"
      ]
     },
     "execution_count": 66,
     "metadata": {},
     "output_type": "execute_result"
    }
   ],
   "source": [
    "# Retorna a mediana para cada linha (eixo = 1)\n",
    "np.median(d2D, axis = 1)"
   ]
  },
  {
   "cell_type": "markdown",
   "metadata": {},
   "source": [
    "### Copiando e concatenando arrays"
   ]
  },
  {
   "cell_type": "code",
   "execution_count": 67,
   "metadata": {},
   "outputs": [
    {
     "data": {
      "text/plain": [
       "array([[48, 20, 38, 42, 35],\n",
       "       [31, 35, 37, 14, 13],\n",
       "       [34, 27,  9, 15, 48],\n",
       "       [11,  7,  5, 44, 34]])"
      ]
     },
     "execution_count": 67,
     "metadata": {},
     "output_type": "execute_result"
    }
   ],
   "source": [
    "a2D = np.random.randint(1,50, (4,5))\n",
    "a2D"
   ]
  },
  {
   "cell_type": "code",
   "execution_count": 68,
   "metadata": {},
   "outputs": [
    {
     "data": {
      "text/plain": [
       "array([[77, 76, 59, 84, 83],\n",
       "       [59, 61, 67, 72, 98],\n",
       "       [58, 57, 92, 84, 55],\n",
       "       [69, 82, 59, 85, 85]])"
      ]
     },
     "execution_count": 68,
     "metadata": {},
     "output_type": "execute_result"
    }
   ],
   "source": [
    "b2D = np.random.randint(50,100, (4,5))\n",
    "b2D"
   ]
  },
  {
   "cell_type": "code",
   "execution_count": 69,
   "metadata": {},
   "outputs": [
    {
     "data": {
      "text/plain": [
       "array([[48, 20, 38, 42, 35],\n",
       "       [31, 35, 37, 14, 13],\n",
       "       [34, 27,  9, 15, 48],\n",
       "       [11,  7,  5, 44, 34]])"
      ]
     },
     "execution_count": 69,
     "metadata": {},
     "output_type": "execute_result"
    }
   ],
   "source": [
    "c2D = a2D\n",
    "c2D"
   ]
  },
  {
   "cell_type": "code",
   "execution_count": 73,
   "metadata": {},
   "outputs": [
    {
     "data": {
      "text/plain": [
       "array([[48, 20, 38, 42, 35],\n",
       "       [31, 35, 37, -1, -1],\n",
       "       [34, 27, -1, -1, 48],\n",
       "       [-1, -1, -1, 44, 34]])"
      ]
     },
     "execution_count": 73,
     "metadata": {},
     "output_type": "execute_result"
    }
   ],
   "source": [
    "# Aparentemente ocorreu uma cópia dos arrays, mas veja o que acontece se alterarmos alguns elementos\n",
    "c2D[c2D < 20] = -1\n",
    "c2D"
   ]
  },
  {
   "cell_type": "code",
   "execution_count": 74,
   "metadata": {},
   "outputs": [
    {
     "data": {
      "text/plain": [
       "array([[17, 45, 21,  4, 17],\n",
       "       [34, 13, 19, 42, 30],\n",
       "       [47, 15, 30, 44, 36],\n",
       "       [42, 10, 41, 21, 46]])"
      ]
     },
     "execution_count": 74,
     "metadata": {},
     "output_type": "execute_result"
    }
   ],
   "source": [
    "a2D "
   ]
  },
  {
   "cell_type": "markdown",
   "metadata": {},
   "source": [
    "Os elementos de a2D também foram alterados. :-("
   ]
  },
  {
   "cell_type": "code",
   "execution_count": 75,
   "metadata": {},
   "outputs": [
    {
     "data": {
      "text/plain": [
       "array([[ 7, 20, 10, 38, 14],\n",
       "       [19,  1, 45, 34, 32],\n",
       "       [13, 22, 26, 37,  4],\n",
       "       [11, 14, 19, 33, 11]])"
      ]
     },
     "execution_count": 75,
     "metadata": {},
     "output_type": "execute_result"
    }
   ],
   "source": [
    "# Redefinindo os elementos de a2D\n",
    "a2D = np.random.randint(1,50, (4,5))\n",
    "a2D"
   ]
  },
  {
   "cell_type": "code",
   "execution_count": 77,
   "metadata": {},
   "outputs": [
    {
     "data": {
      "text/plain": [
       "array([[ 7, 20, 10, 38, 14],\n",
       "       [19,  1, 45, 34, 32],\n",
       "       [13, 22, 26, 37,  4],\n",
       "       [11, 14, 19, 33, 11]])"
      ]
     },
     "execution_count": 77,
     "metadata": {},
     "output_type": "execute_result"
    }
   ],
   "source": [
    "# Forma correta de copiar um array parece que com a forma de copiar uma lista\n",
    "c2D = a2D.copy()\n",
    "c2D"
   ]
  },
  {
   "cell_type": "code",
   "execution_count": 78,
   "metadata": {},
   "outputs": [
    {
     "data": {
      "text/plain": [
       "array([[-1, 20, -1, 38, -1],\n",
       "       [-1, -1, 45, 34, 32],\n",
       "       [-1, 22, 26, 37, -1],\n",
       "       [-1, -1, -1, 33, -1]])"
      ]
     },
     "execution_count": 78,
     "metadata": {},
     "output_type": "execute_result"
    }
   ],
   "source": [
    "c2D[c2D < 20] = -1\n",
    "c2D"
   ]
  },
  {
   "cell_type": "code",
   "execution_count": 79,
   "metadata": {},
   "outputs": [
    {
     "data": {
      "text/plain": [
       "array([[ 7, 20, 10, 38, 14],\n",
       "       [19,  1, 45, 34, 32],\n",
       "       [13, 22, 26, 37,  4],\n",
       "       [11, 14, 19, 33, 11]])"
      ]
     },
     "execution_count": 79,
     "metadata": {},
     "output_type": "execute_result"
    }
   ],
   "source": [
    "a2D"
   ]
  },
  {
   "cell_type": "markdown",
   "metadata": {},
   "source": [
    "Agora sim!!!"
   ]
  },
  {
   "cell_type": "markdown",
   "metadata": {},
   "source": [
    "### Ordenando os elementos de um array"
   ]
  },
  {
   "cell_type": "code",
   "execution_count": 80,
   "metadata": {},
   "outputs": [
    {
     "data": {
      "text/plain": [
       "array([17, 71, 33, 45, 45, 80, 78, 11, 56, 32, 21, 30, 38, 17, 12])"
      ]
     },
     "execution_count": 80,
     "metadata": {},
     "output_type": "execute_result"
    }
   ],
   "source": [
    "a1D = np.random.randint(1,100, 15)\n",
    "a1D"
   ]
  },
  {
   "cell_type": "code",
   "execution_count": 81,
   "metadata": {},
   "outputs": [
    {
     "data": {
      "text/plain": [
       "array([11, 12, 17, 17, 21, 30, 32, 33, 38, 45, 45, 56, 71, 78, 80])"
      ]
     },
     "execution_count": 81,
     "metadata": {},
     "output_type": "execute_result"
    }
   ],
   "source": [
    "a1D.sort()\n",
    "a1D"
   ]
  },
  {
   "cell_type": "code",
   "execution_count": 82,
   "metadata": {},
   "outputs": [
    {
     "data": {
      "text/plain": [
       "array([[13, 64, 82, 28, 53, 47, 44,  5, 85, 63],\n",
       "       [96, 98, 87, 68, 99, 73, 66, 40, 51, 17],\n",
       "       [11, 54, 43, 49, 37, 26, 52, 80, 34, 88],\n",
       "       [51, 22, 75, 31, 54, 88, 57, 80, 89, 57],\n",
       "       [80,  4,  5, 73, 81, 71, 47, 48, 40, 92],\n",
       "       [45, 65, 49, 12, 83, 49, 35, 53, 44, 89]])"
      ]
     },
     "execution_count": 82,
     "metadata": {},
     "output_type": "execute_result"
    }
   ],
   "source": [
    "a2D = np.random.randint(1,100, (6,10))\n",
    "a2D"
   ]
  },
  {
   "cell_type": "code",
   "execution_count": 83,
   "metadata": {},
   "outputs": [
    {
     "data": {
      "text/plain": [
       "array([[ 5, 13, 28, 44, 47, 53, 63, 64, 82, 85],\n",
       "       [17, 40, 51, 66, 68, 73, 87, 96, 98, 99],\n",
       "       [11, 26, 34, 37, 43, 49, 52, 54, 80, 88],\n",
       "       [22, 31, 51, 54, 57, 57, 75, 80, 88, 89],\n",
       "       [ 4,  5, 40, 47, 48, 71, 73, 80, 81, 92],\n",
       "       [12, 35, 44, 45, 49, 49, 53, 65, 83, 89]])"
      ]
     },
     "execution_count": 83,
     "metadata": {},
     "output_type": "execute_result"
    }
   ],
   "source": [
    "a2D.sort() # Por padrão ordena o maior eixo (nesse caso o eixo 1, linhas)\n",
    "a2D"
   ]
  },
  {
   "cell_type": "code",
   "execution_count": 84,
   "metadata": {},
   "outputs": [
    {
     "data": {
      "text/plain": [
       "array([[ 4,  5, 28, 37, 43, 49, 52, 54, 80, 85],\n",
       "       [ 5, 13, 34, 44, 47, 49, 53, 64, 81, 88],\n",
       "       [11, 26, 40, 45, 48, 53, 63, 65, 82, 89],\n",
       "       [12, 31, 44, 47, 49, 57, 73, 80, 83, 89],\n",
       "       [17, 35, 51, 54, 57, 71, 75, 80, 88, 92],\n",
       "       [22, 40, 51, 66, 68, 73, 87, 96, 98, 99]])"
      ]
     },
     "execution_count": 84,
     "metadata": {},
     "output_type": "execute_result"
    }
   ],
   "source": [
    "a2D.sort(axis=0) # Ordenando pelo eixo 0 (colunas)\n",
    "a2D"
   ]
  },
  {
   "cell_type": "code",
   "execution_count": 85,
   "metadata": {},
   "outputs": [
    {
     "data": {
      "text/plain": [
       "array([[61, 78,  5, 44, 91, 69, 56, 43, 40, 62],\n",
       "       [83, 41, 12, 16, 34, 47, 35,  3, 68, 39],\n",
       "       [90, 84, 37, 25, 31, 96, 82, 25, 10, 27],\n",
       "       [84, 98, 52, 81, 37, 81, 91, 20, 71, 13],\n",
       "       [10, 84, 74, 80, 52, 94, 99,  9, 25, 12],\n",
       "       [87, 62, 55,  8,  5,  8, 59,  1,  2,  4]])"
      ]
     },
     "execution_count": 85,
     "metadata": {},
     "output_type": "execute_result"
    }
   ],
   "source": [
    "a2D = np.random.randint(1,100, (6,10))\n",
    "a2D"
   ]
  },
  {
   "cell_type": "code",
   "execution_count": 86,
   "metadata": {},
   "outputs": [
    {
     "data": {
      "text/plain": [
       "array([[ 5, 40, 43, 44, 56, 61, 62, 69, 78, 91],\n",
       "       [ 3, 12, 16, 34, 35, 39, 41, 47, 68, 83],\n",
       "       [10, 25, 25, 27, 31, 37, 82, 84, 90, 96],\n",
       "       [13, 20, 37, 52, 71, 81, 81, 84, 91, 98],\n",
       "       [ 9, 10, 12, 25, 52, 74, 80, 84, 94, 99],\n",
       "       [ 1,  2,  4,  5,  8,  8, 55, 59, 62, 87]])"
      ]
     },
     "execution_count": 86,
     "metadata": {},
     "output_type": "execute_result"
    }
   ],
   "source": [
    "a2D.sort(axis=1) # Ordenando pelo eixo 1 (linhas)\n",
    "a2D"
   ]
  },
  {
   "cell_type": "markdown",
   "metadata": {},
   "source": [
    "### Transposição de arrays"
   ]
  },
  {
   "cell_type": "code",
   "execution_count": 87,
   "metadata": {},
   "outputs": [
    {
     "data": {
      "text/plain": [
       "array([[1, 2, 3, 4],\n",
       "       [5, 6, 7, 8]])"
      ]
     },
     "execution_count": 87,
     "metadata": {},
     "output_type": "execute_result"
    }
   ],
   "source": [
    "a2D = np.array([[1,2,3,4],[5,6,7,8]])\n",
    "a2D"
   ]
  },
  {
   "cell_type": "code",
   "execution_count": 88,
   "metadata": {},
   "outputs": [
    {
     "data": {
      "text/plain": [
       "array([[1, 5],\n",
       "       [2, 6],\n",
       "       [3, 7],\n",
       "       [4, 8]])"
      ]
     },
     "execution_count": 88,
     "metadata": {},
     "output_type": "execute_result"
    }
   ],
   "source": [
    "a2DT = a2D.T # Retorna a transposta\n",
    "a2DT"
   ]
  },
  {
   "cell_type": "code",
   "execution_count": 89,
   "metadata": {},
   "outputs": [
    {
     "data": {
      "text/plain": [
       "array([[1, 2, 3, 4],\n",
       "       [5, 6, 7, 8]])"
      ]
     },
     "execution_count": 89,
     "metadata": {},
     "output_type": "execute_result"
    }
   ],
   "source": [
    "a2D # a2D original não foi transposto"
   ]
  },
  {
   "cell_type": "code",
   "execution_count": 90,
   "metadata": {},
   "outputs": [
    {
     "data": {
      "text/plain": [
       "array([[1, 5],\n",
       "       [2, 6],\n",
       "       [3, 7],\n",
       "       [4, 8]])"
      ]
     },
     "execution_count": 90,
     "metadata": {},
     "output_type": "execute_result"
    }
   ],
   "source": [
    "a2D.transpose() # Retorna a transposta"
   ]
  },
  {
   "cell_type": "code",
   "execution_count": 91,
   "metadata": {},
   "outputs": [
    {
     "data": {
      "text/plain": [
       "array([[1, 2, 3, 4],\n",
       "       [5, 6, 7, 8]])"
      ]
     },
     "execution_count": 91,
     "metadata": {},
     "output_type": "execute_result"
    }
   ],
   "source": [
    "a2D # a2D original não foi transposto"
   ]
  },
  {
   "cell_type": "markdown",
   "metadata": {},
   "source": [
    "### Mudando o formato de um array - reshape()"
   ]
  },
  {
   "cell_type": "code",
   "execution_count": 92,
   "metadata": {},
   "outputs": [
    {
     "data": {
      "text/plain": [
       "array([ 1,  2,  3,  4,  5,  6,  7,  8,  9, 10, 11, 12, 13, 14, 15, 16, 17,\n",
       "       18, 19, 20, 21, 22, 23, 24])"
      ]
     },
     "execution_count": 92,
     "metadata": {},
     "output_type": "execute_result"
    }
   ],
   "source": [
    "a1D = np.arange(1,25)\n",
    "a1D"
   ]
  },
  {
   "cell_type": "code",
   "execution_count": 94,
   "metadata": {},
   "outputs": [
    {
     "name": "stdout",
     "output_type": "stream",
     "text": [
      "(2, 12)\n",
      "(2, 12)\n",
      "[[ 1  2  3  4  5  6  7  8  9 10 11 12]\n",
      " [13 14 15 16 17 18 19 20 21 22 23 24]]\n"
     ]
    }
   ],
   "source": [
    "print(a1D.shape)\n",
    "a1D.shape = (2,12)\n",
    "print(a1D.shape)\n",
    "print(a1D)"
   ]
  },
  {
   "cell_type": "code",
   "execution_count": 97,
   "metadata": {},
   "outputs": [
    {
     "data": {
      "text/plain": [
       "array([[ 1,  2,  3,  4,  5,  6],\n",
       "       [ 7,  8,  9, 10, 11, 12],\n",
       "       [13, 14, 15, 16, 17, 18],\n",
       "       [19, 20, 21, 22, 23, 24]])"
      ]
     },
     "execution_count": 97,
     "metadata": {},
     "output_type": "execute_result"
    }
   ],
   "source": [
    "a2D_4x6 = a1D.reshape(4,6)\n",
    "a2D_4x6"
   ]
  },
  {
   "cell_type": "code",
   "execution_count": 98,
   "metadata": {},
   "outputs": [
    {
     "data": {
      "text/plain": [
       "array([[ 1,  2,  3,  4,  5,  6,  7,  8,  9, 10, 11, 12],\n",
       "       [13, 14, 15, 16, 17, 18, 19, 20, 21, 22, 23, 24]])"
      ]
     },
     "execution_count": 98,
     "metadata": {},
     "output_type": "execute_result"
    }
   ],
   "source": [
    "a1D"
   ]
  },
  {
   "cell_type": "code",
   "execution_count": 99,
   "metadata": {},
   "outputs": [
    {
     "data": {
      "text/plain": [
       "array([[ 1,  2,  3,  4,  5,  6,  7,  8],\n",
       "       [ 9, 10, 11, 12, 13, 14, 15, 16],\n",
       "       [17, 18, 19, 20, 21, 22, 23, 24]])"
      ]
     },
     "execution_count": 99,
     "metadata": {},
     "output_type": "execute_result"
    }
   ],
   "source": [
    "a2D_3x8 = a1D.reshape(3,8)\n",
    "a2D_3x8"
   ]
  },
  {
   "cell_type": "markdown",
   "metadata": {},
   "source": [
    "### Linearização de um array"
   ]
  },
  {
   "cell_type": "code",
   "execution_count": 100,
   "metadata": {},
   "outputs": [
    {
     "data": {
      "text/plain": [
       "array([ 1,  2,  3,  4,  5,  6,  7,  8,  9, 10, 11, 12, 13, 14, 15, 16, 17,\n",
       "       18, 19, 20, 21, 22, 23, 24])"
      ]
     },
     "execution_count": 100,
     "metadata": {},
     "output_type": "execute_result"
    }
   ],
   "source": [
    "x = a2D_3x8.flatten()\n",
    "x"
   ]
  },
  {
   "cell_type": "code",
   "execution_count": 101,
   "metadata": {},
   "outputs": [
    {
     "data": {
      "text/plain": [
       "array([ 1,  2,  3,  4,  5,  6,  7,  8,  9, 10, 11, 12, 13, 14, 15, 16, 17,\n",
       "       18, 19, 20, 21, 22, 23, 24])"
      ]
     },
     "execution_count": 101,
     "metadata": {},
     "output_type": "execute_result"
    }
   ],
   "source": [
    "y = a2D_3x8.ravel()\n",
    "y"
   ]
  },
  {
   "cell_type": "markdown",
   "metadata": {},
   "source": [
    "### Combinando/concatenando arrays"
   ]
  },
  {
   "cell_type": "code",
   "execution_count": 102,
   "metadata": {},
   "outputs": [
    {
     "data": {
      "text/plain": [
       "array([[ 83,  32,  24,  65,  80,  76,  10,  36,  58],\n",
       "       [ 65,  68,  52,  47,  38,  69, 100,  15,  10],\n",
       "       [ 19,  61,  38,  87,  58,  84,  83,  63,  70]])"
      ]
     },
     "execution_count": 102,
     "metadata": {},
     "output_type": "execute_result"
    }
   ],
   "source": [
    "a2D = np.random.randint(1,101,(3,9))\n",
    "a2D"
   ]
  },
  {
   "cell_type": "code",
   "execution_count": 103,
   "metadata": {},
   "outputs": [
    {
     "data": {
      "text/plain": [
       "array([[58, 37, 49, 82, 93, 88, 82, 99, 70],\n",
       "       [ 5, 49, 87, 65, 72, 17, 73, 82, 98],\n",
       "       [50,  3, 35,  3, 23, 64, 77, 67, 75],\n",
       "       [ 4, 79, 87, 51, 92, 45, 45, 60, 47],\n",
       "       [16, 45, 96,  1, 16, 44, 18, 66, 88]])"
      ]
     },
     "execution_count": 103,
     "metadata": {},
     "output_type": "execute_result"
    }
   ],
   "source": [
    "b2D = np.random.randint(1,101,(5,9))\n",
    "b2D"
   ]
  },
  {
   "cell_type": "code",
   "execution_count": 104,
   "metadata": {},
   "outputs": [
    {
     "data": {
      "text/plain": [
       "array([[53, 75, 32, 34],\n",
       "       [19, 98, 27, 12],\n",
       "       [17, 51, 39, 63],\n",
       "       [33, 73, 63, 16],\n",
       "       [29, 15, 99, 56]])"
      ]
     },
     "execution_count": 104,
     "metadata": {},
     "output_type": "execute_result"
    }
   ],
   "source": [
    "c2D = np.random.randint(1,101,(5,4))\n",
    "c2D"
   ]
  },
  {
   "cell_type": "code",
   "execution_count": 105,
   "metadata": {},
   "outputs": [
    {
     "data": {
      "text/plain": [
       "'Python & Numpy'"
      ]
     },
     "execution_count": 105,
     "metadata": {},
     "output_type": "execute_result"
    }
   ],
   "source": [
    "# Concatenação de strings usa o operador \"+\"\n",
    "str1 = \"Python\"\n",
    "str2 = \" & \"\n",
    "str3 = \"Numpy\"\n",
    "str4 = str1 + str2 + str3\n",
    "str4"
   ]
  },
  {
   "cell_type": "code",
   "execution_count": 106,
   "metadata": {},
   "outputs": [
    {
     "ename": "ValueError",
     "evalue": "operands could not be broadcast together with shapes (3,9) (5,9) ",
     "output_type": "error",
     "traceback": [
      "\u001b[0;31m---------------------------------------------------------------------------\u001b[0m",
      "\u001b[0;31mValueError\u001b[0m                                Traceback (most recent call last)",
      "Cell \u001b[0;32mIn[106], line 2\u001b[0m\n\u001b[1;32m      1\u001b[0m \u001b[38;5;66;03m# O operador \"+\" aplicado a ndarrays não faz a concatenação, mas tentar somar elemento a elemento\u001b[39;00m\n\u001b[0;32m----> 2\u001b[0m \u001b[43ma2D\u001b[49m\u001b[43m \u001b[49m\u001b[38;5;241;43m+\u001b[39;49m\u001b[43m \u001b[49m\u001b[43mb2D\u001b[49m\n",
      "\u001b[0;31mValueError\u001b[0m: operands could not be broadcast together with shapes (3,9) (5,9) "
     ]
    }
   ],
   "source": [
    "# O operador \"+\" aplicado a ndarrays não faz a concatenação, mas tentar somar elemento a elemento\n",
    "a2D + b2D"
   ]
  },
  {
   "cell_type": "code",
   "execution_count": 107,
   "metadata": {},
   "outputs": [
    {
     "name": "stdout",
     "output_type": "stream",
     "text": [
      "a2D\n",
      "[[ 83  32  24  65  80  76  10  36  58]\n",
      " [ 65  68  52  47  38  69 100  15  10]\n",
      " [ 19  61  38  87  58  84  83  63  70]]\n",
      "\n",
      "b2D\n",
      "[[58 37 49 82 93 88 82 99 70]\n",
      " [ 5 49 87 65 72 17 73 82 98]\n",
      " [50  3 35  3 23 64 77 67 75]\n",
      " [ 4 79 87 51 92 45 45 60 47]\n",
      " [16 45 96  1 16 44 18 66 88]]\n",
      "\n",
      "Concatenação\n",
      "[[ 83  32  24  65  80  76  10  36  58]\n",
      " [ 65  68  52  47  38  69 100  15  10]\n",
      " [ 19  61  38  87  58  84  83  63  70]\n",
      " [ 58  37  49  82  93  88  82  99  70]\n",
      " [  5  49  87  65  72  17  73  82  98]\n",
      " [ 50   3  35   3  23  64  77  67  75]\n",
      " [  4  79  87  51  92  45  45  60  47]\n",
      " [ 16  45  96   1  16  44  18  66  88]]\n"
     ]
    }
   ],
   "source": [
    "A = np.concatenate((a2D, b2D), axis = 0) # Concatenando pelo eixo das colunas (eixo 0) (empilhamento vertical) \n",
    "print(\"a2D\")\n",
    "print(a2D)\n",
    "print(\"\")\n",
    "print(\"b2D\")\n",
    "print(b2D)\n",
    "print(\"\")\n",
    "print(\"Concatenação\")\n",
    "print(A)"
   ]
  },
  {
   "cell_type": "code",
   "execution_count": 110,
   "metadata": {},
   "outputs": [
    {
     "name": "stdout",
     "output_type": "stream",
     "text": [
      "a2D\n",
      "[[ 83  32  24  65  80  76  10  36  58]\n",
      " [ 65  68  52  47  38  69 100  15  10]\n",
      " [ 19  61  38  87  58  84  83  63  70]]\n",
      "\n",
      "b2D\n",
      "[[58 37 49 82 93 88 82 99 70]\n",
      " [ 5 49 87 65 72 17 73 82 98]\n",
      " [50  3 35  3 23 64 77 67 75]\n",
      " [ 4 79 87 51 92 45 45 60 47]\n",
      " [16 45 96  1 16 44 18 66 88]]\n",
      "\n",
      "Concatenação\n",
      "[[ 83  32  24  65  80  76  10  36  58]\n",
      " [ 65  68  52  47  38  69 100  15  10]\n",
      " [ 19  61  38  87  58  84  83  63  70]\n",
      " [ 58  37  49  82  93  88  82  99  70]\n",
      " [  5  49  87  65  72  17  73  82  98]\n",
      " [ 50   3  35   3  23  64  77  67  75]\n",
      " [  4  79  87  51  92  45  45  60  47]\n",
      " [ 16  45  96   1  16  44  18  66  88]]\n"
     ]
    }
   ],
   "source": [
    "B = np.vstack((a2D, b2D)) # Concatenando pelo eixo das colunas (eixo 0) (empilhamento vertical) \n",
    "print(\"a2D\")\n",
    "print(a2D)\n",
    "print(\"\")\n",
    "print(\"b2D\")\n",
    "print(b2D)\n",
    "print(\"\")\n",
    "print(\"Concatenação\")\n",
    "print(B)"
   ]
  },
  {
   "cell_type": "code",
   "execution_count": 111,
   "metadata": {},
   "outputs": [
    {
     "name": "stdout",
     "output_type": "stream",
     "text": [
      "b2D\n",
      "[[58 37 49 82 93 88 82 99 70]\n",
      " [ 5 49 87 65 72 17 73 82 98]\n",
      " [50  3 35  3 23 64 77 67 75]\n",
      " [ 4 79 87 51 92 45 45 60 47]\n",
      " [16 45 96  1 16 44 18 66 88]]\n",
      "\n",
      "c2D\n",
      "[[53 75 32 34]\n",
      " [19 98 27 12]\n",
      " [17 51 39 63]\n",
      " [33 73 63 16]\n",
      " [29 15 99 56]]\n",
      "\n",
      "Concatenação\n",
      "[[58 37 49 82 93 88 82 99 70 53 75 32 34]\n",
      " [ 5 49 87 65 72 17 73 82 98 19 98 27 12]\n",
      " [50  3 35  3 23 64 77 67 75 17 51 39 63]\n",
      " [ 4 79 87 51 92 45 45 60 47 33 73 63 16]\n",
      " [16 45 96  1 16 44 18 66 88 29 15 99 56]]\n"
     ]
    }
   ],
   "source": [
    "C = np.concatenate((b2D, c2D), axis = 1) # Concatenando pelo eixo das linhas (eixo 1) (empilhamento horizontal) \n",
    "print(\"b2D\")\n",
    "print(b2D)\n",
    "print(\"\")\n",
    "print(\"c2D\")\n",
    "print(c2D)\n",
    "print(\"\")\n",
    "print(\"Concatenação\")\n",
    "print(C)"
   ]
  },
  {
   "cell_type": "code",
   "execution_count": 112,
   "metadata": {},
   "outputs": [
    {
     "name": "stdout",
     "output_type": "stream",
     "text": [
      "b2D\n",
      "[[58 37 49 82 93 88 82 99 70]\n",
      " [ 5 49 87 65 72 17 73 82 98]\n",
      " [50  3 35  3 23 64 77 67 75]\n",
      " [ 4 79 87 51 92 45 45 60 47]\n",
      " [16 45 96  1 16 44 18 66 88]]\n",
      "\n",
      "c2D\n",
      "[[53 75 32 34]\n",
      " [19 98 27 12]\n",
      " [17 51 39 63]\n",
      " [33 73 63 16]\n",
      " [29 15 99 56]]\n",
      "\n",
      "Concatenação\n",
      "[[58 37 49 82 93 88 82 99 70 53 75 32 34]\n",
      " [ 5 49 87 65 72 17 73 82 98 19 98 27 12]\n",
      " [50  3 35  3 23 64 77 67 75 17 51 39 63]\n",
      " [ 4 79 87 51 92 45 45 60 47 33 73 63 16]\n",
      " [16 45 96  1 16 44 18 66 88 29 15 99 56]]\n"
     ]
    }
   ],
   "source": [
    "D = np.hstack((b2D, c2D)) # Concatenando pelo eixo das linhas (eixo 1) (empilhamento horizontal) \n",
    "print(\"b2D\")\n",
    "print(b2D)\n",
    "print(\"\")\n",
    "print(\"c2D\")\n",
    "print(c2D)\n",
    "print(\"\")\n",
    "print(\"Concatenação\")\n",
    "print(D)"
   ]
  },
  {
   "cell_type": "markdown",
   "metadata": {},
   "source": [
    "### Dividindo arrays"
   ]
  },
  {
   "cell_type": "code",
   "execution_count": 113,
   "metadata": {},
   "outputs": [
    {
     "name": "stdout",
     "output_type": "stream",
     "text": [
      "Array original\n",
      "[[ 83  32  24  65  80  76  10  36  58]\n",
      " [ 65  68  52  47  38  69 100  15  10]\n",
      " [ 19  61  38  87  58  84  83  63  70]\n",
      " [ 58  37  49  82  93  88  82  99  70]\n",
      " [  5  49  87  65  72  17  73  82  98]\n",
      " [ 50   3  35   3  23  64  77  67  75]\n",
      " [  4  79  87  51  92  45  45  60  47]\n",
      " [ 16  45  96   1  16  44  18  66  88]]\n",
      "\n",
      "1a parte\n",
      "[[ 83  32  24  65  80  76  10  36  58]\n",
      " [ 65  68  52  47  38  69 100  15  10]\n",
      " [ 19  61  38  87  58  84  83  63  70]\n",
      " [ 58  37  49  82  93  88  82  99  70]]\n",
      "\n",
      "2a parte\n",
      "[[ 5 49 87 65 72 17 73 82 98]\n",
      " [50  3 35  3 23 64 77 67 75]\n",
      " [ 4 79 87 51 92 45 45 60 47]\n",
      " [16 45 96  1 16 44 18 66 88]]\n"
     ]
    }
   ],
   "source": [
    "A_splitted = np.vsplit(A,2) # Divisáo vertical (corta no sentido das colunas)\n",
    "print(\"Array original\")\n",
    "print(A)\n",
    "print(\"\")\n",
    "print(\"1a parte\")\n",
    "print(A_splitted[0])\n",
    "print(\"\")\n",
    "print(\"2a parte\")\n",
    "print(A_splitted[1])"
   ]
  },
  {
   "cell_type": "code",
   "execution_count": 114,
   "metadata": {},
   "outputs": [
    {
     "name": "stdout",
     "output_type": "stream",
     "text": [
      "Array original\n",
      "[[ 83  32  24  65  80  76  10  36  58]\n",
      " [ 65  68  52  47  38  69 100  15  10]\n",
      " [ 19  61  38  87  58  84  83  63  70]\n",
      " [ 58  37  49  82  93  88  82  99  70]\n",
      " [  5  49  87  65  72  17  73  82  98]\n",
      " [ 50   3  35   3  23  64  77  67  75]\n",
      " [  4  79  87  51  92  45  45  60  47]\n",
      " [ 16  45  96   1  16  44  18  66  88]]\n",
      "\n",
      "1a parte\n",
      "[[83 32 24]\n",
      " [65 68 52]\n",
      " [19 61 38]\n",
      " [58 37 49]\n",
      " [ 5 49 87]\n",
      " [50  3 35]\n",
      " [ 4 79 87]\n",
      " [16 45 96]]\n",
      "\n",
      "2a parte\n",
      "[[65 80 76]\n",
      " [47 38 69]\n",
      " [87 58 84]\n",
      " [82 93 88]\n",
      " [65 72 17]\n",
      " [ 3 23 64]\n",
      " [51 92 45]\n",
      " [ 1 16 44]]\n",
      "\n",
      "3a parte\n",
      "[[ 10  36  58]\n",
      " [100  15  10]\n",
      " [ 83  63  70]\n",
      " [ 82  99  70]\n",
      " [ 73  82  98]\n",
      " [ 77  67  75]\n",
      " [ 45  60  47]\n",
      " [ 18  66  88]]\n"
     ]
    }
   ],
   "source": [
    "A_splitted3 = np.hsplit(A,3) # Divisão horizontal (corta no sentido das linhas)\n",
    "print(\"Array original\")\n",
    "print(A)\n",
    "print(\"\")\n",
    "print(\"1a parte\")\n",
    "print(A_splitted3[0])\n",
    "print(\"\")\n",
    "print(\"2a parte\")\n",
    "print(A_splitted3[1])\n",
    "print(\"\")\n",
    "print(\"3a parte\")\n",
    "print(A_splitted3[2])"
   ]
  },
  {
   "cell_type": "code",
   "execution_count": null,
   "metadata": {},
   "outputs": [],
   "source": []
  }
 ],
 "metadata": {
  "kernelspec": {
   "display_name": "Python 3 (ipykernel)",
   "language": "python",
   "name": "python3"
  },
  "language_info": {
   "codemirror_mode": {
    "name": "ipython",
    "version": 3
   },
   "file_extension": ".py",
   "mimetype": "text/x-python",
   "name": "python",
   "nbconvert_exporter": "python",
   "pygments_lexer": "ipython3",
   "version": "3.10.12"
  }
 },
 "nbformat": 4,
 "nbformat_minor": 4
}
